{
 "cells": [
  {
   "cell_type": "code",
   "execution_count": 1,
   "metadata": {
    "collapsed": true
   },
   "outputs": [],
   "source": [
    "import pandas as pd\n",
    "import numpy as np\n",
    "import matplotlib as plt\n",
    "from py2neo import Graph"
   ]
  },
  {
   "cell_type": "code",
   "execution_count": 2,
   "metadata": {
    "collapsed": true
   },
   "outputs": [],
   "source": [
    "%matplotlib inline"
   ]
  },
  {
   "cell_type": "code",
   "execution_count": 3,
   "metadata": {
    "collapsed": true
   },
   "outputs": [],
   "source": [
    "neo4j_uname = 'neo4j'\n",
    "neo4j_pswd = 'Impelsys!#%&('\n",
    "\n",
    "# Connect to neo4j\n",
    "graph = Graph(host='localhost', http_port=7474, user=neo4j_uname, password=neo4j_pswd)"
   ]
  },
  {
   "cell_type": "code",
   "execution_count": 4,
   "metadata": {
    "collapsed": true
   },
   "outputs": [],
   "source": [
    "# Loading user data\n",
    "users_col = ['id', 'age', 'gender', 'occupation', 'zipcode']\n",
    "users = pd.read_csv('movie-dataset/u.user', sep='|', header=None, names=users_col)\n",
    "num_users = users.shape[0]\n",
    "\n",
    "# Loading genre data\n",
    "genres_col = ['name', 'id']\n",
    "genres = pd.read_csv('movie-dataset/u.genre', sep='|', header=None, names=genres_col)\n",
    "num_genres = genres.shape[0]\n",
    "\n",
    "# Loading movie data\n",
    "movie_col = ['id', 'title', 'release date', 'useless', 'IMDb url']\n",
    "movie_col = movie_col + genres['id'].tolist()\n",
    "movies = pd.read_csv('movie-dataset/u.item', sep='|', header=None, names=movie_col)\n",
    "movies = movies.fillna('unknown')\n",
    "num_movies = movies.shape[0]\n",
    "\n",
    "# Loading ratings data\n",
    "ratings_col = ['user_id', 'item_id', 'rating', 'timestamp']\n",
    "ratings = pd.read_csv('movie-dataset/u.data', sep='\\t', header=None, names=ratings_col)\n",
    "num_ratings = ratings.shape[0]"
   ]
  },
  {
   "cell_type": "code",
   "execution_count": 5,
   "metadata": {
    "collapsed": true
   },
   "outputs": [],
   "source": [
    "# Create the nodes relative to Users, each one being identified by its user_id\n",
    "# Begin db transaction\n",
    "tx = graph.begin()\n",
    "\n",
    "statement = \"MERGE (a:User {user_id:{A}}) RETURN a\"\n",
    "\n",
    "for u in users['id']:\n",
    "    # Replace 'A' with user_id\n",
    "    tx.run(statement, {'A': u})\n",
    "\n",
    "# Commit db transaction\n",
    "tx.commit()"
   ]
  },
  {
   "cell_type": "code",
   "execution_count": 6,
   "metadata": {
    "collapsed": true
   },
   "outputs": [],
   "source": [
    "# Create the nodes relative to Genres,\n",
    "# each one being identified by its genre_id and with the property name \n",
    "tx = graph.begin()\n",
    "statement = \"MERGE (a:Genre {genre_id:{A}, name:{B}}) RETURN a\"\n",
    "\n",
    "for g, row in genres.iterrows():\n",
    "    # Replace 'A' and 'B' with genre_id and name respectively\n",
    "    tx.run(statement, {'A': row.iloc[1], 'B': row.iloc[0]})\n",
    "    \n",
    "tx.commit()"
   ]
  },
  {
   "cell_type": "code",
   "execution_count": 7,
   "metadata": {
    "collapsed": true
   },
   "outputs": [],
   "source": [
    "# Create the Movie nodes with properties movie_id, title and url ; then create the Is_genre edges\n",
    "tx = graph.begin()\n",
    "movie_stmt = 'MERGE (a:Movie {movie_id:{A}, title:{B}, url:{C}}) RETURN a'\n",
    "genre_stmt = '''MATCH (g:Genre {genre_id:{D}})\n",
    "                MATCH (m:Movie {movie_id:{A}})\n",
    "                MERGE (m)-[r:Is_genre]->(g) RETURN r'''\n",
    "\n",
    "# Looping over movies\n",
    "for m, row in movies.iterrows():\n",
    "    movie_id = row.loc['id']\n",
    "    movie_title = row.loc['title'].decode('latin-1')\n",
    "    movie_url = row.loc['IMDb url']\n",
    "    \n",
    "    # Create Movie nodes\n",
    "    tx.run(movie_stmt, {'A': movie_id, 'B': movie_title, 'C': movie_url})\n",
    "    \n",
    "    # Create an array of booleans for genre (sliced from each movie data)\n",
    "    is_genre = row.iloc[-19:] == 1\n",
    "    # Form an array of genre_ids\n",
    "    related_genres = genres[is_genre].axes[0].values\n",
    "    \n",
    "    # Looping over related genres\n",
    "    for genre in related_genres:\n",
    "        # Create Movie-Genre relationships\n",
    "        tx.run(genre_stmt, {'A': movie_id, 'D': genre})\n",
    "    \n",
    "    # For every 100 movies, push queued statements to the server for execution to avoid one massive \"commit\"\n",
    "    if m % 100 == 0:\n",
    "        tx.process()\n",
    "        \n",
    "tx.commit()"
   ]
  }
 ],
 "metadata": {
  "kernelspec": {
   "display_name": "Python 2",
   "language": "python",
   "name": "python2"
  },
  "language_info": {
   "codemirror_mode": {
    "name": "ipython",
    "version": 2
   },
   "file_extension": ".py",
   "mimetype": "text/x-python",
   "name": "python",
   "nbconvert_exporter": "python",
   "pygments_lexer": "ipython2",
   "version": "2.7.6"
  }
 },
 "nbformat": 4,
 "nbformat_minor": 1
}
